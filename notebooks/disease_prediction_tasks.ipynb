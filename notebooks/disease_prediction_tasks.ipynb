{
 "cells": [
  {
   "cell_type": "markdown",
   "metadata": {},
   "source": [
    "The code in this notebook was used to create disease frequency stats to select appropriate disease prediction tasks"
   ]
  },
  {
   "cell_type": "code",
   "execution_count": null,
   "metadata": {},
   "outputs": [],
   "source": [
    "import polars as pl\n",
    "import os\n",
    "from datetime import datetime, timedelta\n",
    "from tabulate import tabulate\n",
    "import matplotlib.pyplot as plt\n",
    "import numpy as np\n",
    "\n",
    "from file_paths import MIMIC_DIR, OUTPUT_DIR"
   ]
  },
  {
   "cell_type": "code",
   "execution_count": null,
   "metadata": {},
   "outputs": [],
   "source": [
    "TABLE_DIR = os.path.join(OUTPUT_DIR, \"tables\")\n",
    "os.makedirs(TABLE_DIR, exist_ok=True)"
   ]
  },
  {
   "cell_type": "code",
   "execution_count": null,
   "metadata": {},
   "outputs": [],
   "source": [
    "def save_table(table, filename):\n",
    "    df_pd = table.to_pandas()\n",
    "    latex_table = tabulate(df_pd, headers='keys', tablefmt='latex')\n",
    "\n",
    "    with open(os.path.join(TABLE_DIR, filename), \"w\") as f:\n",
    "        f.write(latex_table)"
   ]
  },
  {
   "cell_type": "code",
   "execution_count": null,
   "metadata": {},
   "outputs": [],
   "source": [
    "diagnosis_df = pl.read_csv(os.path.join(MIMIC_DIR, \"hosp/diagnoses_icd.csv\"))\n",
    "admissions_df = pl.read_csv(os.path.join(MIMIC_DIR, \"hosp/admissions.csv\"))"
   ]
  },
  {
   "cell_type": "code",
   "execution_count": null,
   "metadata": {},
   "outputs": [],
   "source": [
    "# Convert date columns to datetime\n",
    "admissions_df = admissions_df.with_columns([\n",
    "    pl.col('admittime').str.strptime(pl.Datetime, '%Y-%m-%d %H:%M:%S').alias('admit_time'),\n",
    "    pl.col('dischtime').str.strptime(pl.Datetime, '%Y-%m-%d %H:%M:%S').alias('discharge_time')\n",
    "])\n",
    "\n",
    "# Sort admissions by subject_id and admit_time\n",
    "admissions_df = admissions_df.sort(by=['subject_id', 'admit_time'])\n",
    "\n",
    "# Add a column for the previous discharge time\n",
    "admissions_df = admissions_df.with_columns([\n",
    "    pl.col('discharge_time').shift(1).over('subject_id').alias('prev_discharge_time')\n",
    "])\n",
    "\n",
    "admissions_df = admissions_df.select([\"subject_id\", \"hadm_id\", \"admit_time\", \"discharge_time\", \"prev_discharge_time\"])\n",
    "\n",
    "merged_df = diagnosis_df.join(admissions_df, on=['subject_id', 'hadm_id'])\n",
    "\n",
    "# Sort by subject_id and admit_time\n",
    "merged_df = merged_df.sort(by=['subject_id', 'admit_time'])\n",
    "\n",
    "# Create a rolling window to check for previous occurrences of each ICD code per patient\n",
    "merged_df = merged_df.with_columns([\n",
    "    pl.col('icd_code').cum_count().over(['subject_id', 'icd_code']).alias('icd_count')\n",
    "])\n",
    "merged_df"
   ]
  },
  {
   "cell_type": "code",
   "execution_count": null,
   "metadata": {},
   "outputs": [],
   "source": [
    "# Filter out rows where icd_count is greater than 0 (i.e., previously recorded diagnoses)\n",
    "unique_diagnoses_df = merged_df.filter(pl.col('icd_count') == 1)\n",
    "\n",
    "# Remove the helper column\n",
    "unique_diagnoses_df = unique_diagnoses_df.drop(['icd_count'])\n",
    "\n",
    "unique_diagnoses_df"
   ]
  },
  {
   "cell_type": "code",
   "execution_count": null,
   "metadata": {},
   "outputs": [],
   "source": [
    "timeframe_days = 365\n",
    "\n",
    "filtered_diagnoses_df = unique_diagnoses_df.with_columns([\n",
    "    pl.when(pl.col('prev_discharge_time').is_not_null())\n",
    "    .then(pl.col('admit_time') - pl.col('prev_discharge_time'))\n",
    "    .otherwise(pl.duration(days=0))\n",
    "    .alias('time_diff')\n",
    "]).filter(pl.col('prev_discharge_time').is_not_null() & (pl.col('time_diff').dt.total_days() <= timeframe_days))\n",
    "\n",
    "filtered_diagnoses_df\n"
   ]
  },
  {
   "cell_type": "code",
   "execution_count": null,
   "metadata": {},
   "outputs": [],
   "source": [
    "# Count the occurrences of each ICD code\n",
    "icd_code_counts = filtered_diagnoses_df.group_by(['icd_version', 'icd_code']).agg([\n",
    "    pl.count('icd_code').alias('count')\n",
    "])\n",
    "\n",
    "sorted_counts = icd_code_counts.sort(\"count\", descending=True)\n",
    "\n",
    "icd_def_df = pl.read_csv(os.path.join(MIMIC_DIR, 'hosp/d_icd_diagnoses.csv'), schema_overrides={'icd_code': pl.Utf8})\n",
    "counts_with_description = sorted_counts.join(icd_def_df, on=['icd_code', 'icd_version'], how='left')\n",
    "\n",
    "top_diagnoses = counts_with_description.select([\"icd_version\", \"icd_code\", \"long_title\", \"count\"])[0:20]\n",
    "\n",
    "save_table(top_diagnoses, \"diagnoses_within_year.tex\")"
   ]
  }
 ],
 "metadata": {
  "kernelspec": {
   "display_name": "thesis",
   "language": "python",
   "name": "python3"
  },
  "language_info": {
   "codemirror_mode": {
    "name": "ipython",
    "version": 3
   },
   "file_extension": ".py",
   "mimetype": "text/x-python",
   "name": "python",
   "nbconvert_exporter": "python",
   "pygments_lexer": "ipython3",
   "version": "3.10.14"
  }
 },
 "nbformat": 4,
 "nbformat_minor": 2
}
