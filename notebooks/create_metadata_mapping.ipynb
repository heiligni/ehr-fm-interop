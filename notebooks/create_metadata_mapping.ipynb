{
 "cells": [
  {
   "cell_type": "markdown",
   "metadata": {},
   "source": [
    "This notebook was used to created the extended OHDSI mapping"
   ]
  },
  {
   "cell_type": "code",
   "execution_count": 17,
   "metadata": {},
   "outputs": [],
   "source": [
    "import sys\n",
    "import os\n",
    "\n",
    "current_dir = os.getcwd()\n",
    "parent_dir = os.path.abspath(os.path.join(current_dir, os.pardir))\n",
    "sys.path.append(os.path.join(parent_dir, \"src\"))\n",
    "\n",
    "import polars as pl\n",
    "from file_paths import MAPPING_DIR,  MIMIC_MEDS_DIR, OUTPUT_DIR\n",
    "from mapping.metadata import load_metadata, get_number_of_mappings, save_metadata"
   ]
  },
  {
   "cell_type": "code",
   "execution_count": 19,
   "metadata": {},
   "outputs": [
    {
     "data": {
      "text/html": [
       "<div><style>\n",
       ".dataframe > thead > tr,\n",
       ".dataframe > tbody > tr {\n",
       "  text-align: right;\n",
       "  white-space: pre-wrap;\n",
       "}\n",
       "</style>\n",
       "<small>shape: (3_070, 7)</small><table border=\"1\" class=\"dataframe\"><thead><tr><th>mapping_source_table</th><th>table_name</th><th>etl_prefix</th><th>source_code</th><th>vocabulary_id</th><th>target_concept_id</th><th>ontology_concept_name</th></tr><tr><td>str</td><td>str</td><td>str</td><td>str</td><td>str</td><td>i64</td><td>str</td></tr></thead><tbody><tr><td>&quot;gcpt_drug_ndc&quot;</td><td>&quot;prescriptions&quot;</td><td>&quot;NDC/&quot;</td><td>&quot;61314020315&quot;</td><td>&quot;RxNorm/373454&quot;</td><td>40076463</td><td>&quot;pilocarpine Ophthalmic Solutio…</td></tr><tr><td>&quot;gcpt_drug_ndc&quot;</td><td>&quot;prescriptions&quot;</td><td>&quot;NDC/&quot;</td><td>&quot;00264958720&quot;</td><td>&quot;RxNorm/5224&quot;</td><td>1367571</td><td>&quot;heparin&quot;</td></tr><tr><td>&quot;gcpt_drug_ndc&quot;</td><td>&quot;prescriptions&quot;</td><td>&quot;NDC/&quot;</td><td>&quot;00009082501&quot;</td><td>&quot;RxNorm/5492&quot;</td><td>975125</td><td>&quot;hydrocortisone&quot;</td></tr><tr><td>&quot;gcpt_drug_ndc&quot;</td><td>&quot;prescriptions&quot;</td><td>&quot;NDC/&quot;</td><td>&quot;00338055002&quot;</td><td>&quot;RxNorm/5224&quot;</td><td>1367571</td><td>&quot;heparin&quot;</td></tr><tr><td>&quot;gcpt_drug_ndc&quot;</td><td>&quot;prescriptions&quot;</td><td>&quot;NDC/&quot;</td><td>&quot;00904150061&quot;</td><td>&quot;RxNorm/197900&quot;</td><td>19019112</td><td>&quot;lorazepam 0.5 MG Oral Tablet&quot;</td></tr><tr><td>&hellip;</td><td>&hellip;</td><td>&hellip;</td><td>&hellip;</td><td>&hellip;</td><td>&hellip;</td><td>&hellip;</td></tr><tr><td>&quot;gcpt_per_ethnicity&quot;</td><td>&quot;admissions&quot;</td><td>&quot;MIMIC_IV_Race/&quot;</td><td>&quot;OBSERVATION ADMIT&quot;</td><td>&quot;CMS Place of Service/OMOP48220…</td><td>581385</td><td>&quot;Observation Room&quot;</td></tr><tr><td>&quot;gcpt_per_ethnicity&quot;</td><td>&quot;admissions&quot;</td><td>&quot;MIMIC_IV_Race/&quot;</td><td>&quot;SURGICAL SAME DAY ADMISSION&quot;</td><td>&quot;CMS Place of Service/24&quot;</td><td>8883</td><td>&quot;Ambulatory Surgical Center&quot;</td></tr><tr><td>&quot;gcpt_per_ethnicity&quot;</td><td>&quot;admissions&quot;</td><td>&quot;MIMIC_IV_Race/&quot;</td><td>&quot;URGENT&quot;</td><td>&quot;Visit/ERIP&quot;</td><td>262</td><td>&quot;Emergency Room and Inpatient V…</td></tr><tr><td>&quot;individual&quot;</td><td>&quot;patients&quot;</td><td>&quot;MIMIC_IV_Gender/&quot;</td><td>&quot;F&quot;</td><td>&quot;Gender/F&quot;</td><td>8532</td><td>&quot;FEMALE&quot;</td></tr><tr><td>&quot;individual&quot;</td><td>&quot;patients&quot;</td><td>&quot;MIMIC_IV_Gender/&quot;</td><td>&quot;M&quot;</td><td>&quot;Gender/M&quot;</td><td>8507</td><td>&quot;MALE&quot;</td></tr></tbody></table></div>"
      ],
      "text/plain": [
       "shape: (3_070, 7)\n",
       "┌──────────────┬─────────────┬─────────────┬─────────────┬─────────────┬─────────────┬─────────────┐\n",
       "│ mapping_sour ┆ table_name  ┆ etl_prefix  ┆ source_code ┆ vocabulary_ ┆ target_conc ┆ ontology_co │\n",
       "│ ce_table     ┆ ---         ┆ ---         ┆ ---         ┆ id          ┆ ept_id      ┆ ncept_name  │\n",
       "│ ---          ┆ str         ┆ str         ┆ str         ┆ ---         ┆ ---         ┆ ---         │\n",
       "│ str          ┆             ┆             ┆             ┆ str         ┆ i64         ┆ str         │\n",
       "╞══════════════╪═════════════╪═════════════╪═════════════╪═════════════╪═════════════╪═════════════╡\n",
       "│ gcpt_drug_nd ┆ prescriptio ┆ NDC/        ┆ 61314020315 ┆ RxNorm/3734 ┆ 40076463    ┆ pilocarpine │\n",
       "│ c            ┆ ns          ┆             ┆             ┆ 54          ┆             ┆ Ophthalmic  │\n",
       "│              ┆             ┆             ┆             ┆             ┆             ┆ Solutio…    │\n",
       "│ gcpt_drug_nd ┆ prescriptio ┆ NDC/        ┆ 00264958720 ┆ RxNorm/5224 ┆ 1367571     ┆ heparin     │\n",
       "│ c            ┆ ns          ┆             ┆             ┆             ┆             ┆             │\n",
       "│ gcpt_drug_nd ┆ prescriptio ┆ NDC/        ┆ 00009082501 ┆ RxNorm/5492 ┆ 975125      ┆ hydrocortis │\n",
       "│ c            ┆ ns          ┆             ┆             ┆             ┆             ┆ one         │\n",
       "│ gcpt_drug_nd ┆ prescriptio ┆ NDC/        ┆ 00338055002 ┆ RxNorm/5224 ┆ 1367571     ┆ heparin     │\n",
       "│ c            ┆ ns          ┆             ┆             ┆             ┆             ┆             │\n",
       "│ gcpt_drug_nd ┆ prescriptio ┆ NDC/        ┆ 00904150061 ┆ RxNorm/1979 ┆ 19019112    ┆ lorazepam   │\n",
       "│ c            ┆ ns          ┆             ┆             ┆ 00          ┆             ┆ 0.5 MG Oral │\n",
       "│              ┆             ┆             ┆             ┆             ┆             ┆ Tablet      │\n",
       "│ …            ┆ …           ┆ …           ┆ …           ┆ …           ┆ …           ┆ …           │\n",
       "│ gcpt_per_eth ┆ admissions  ┆ MIMIC_IV_Ra ┆ OBSERVATION ┆ CMS Place   ┆ 581385      ┆ Observation │\n",
       "│ nicity       ┆             ┆ ce/         ┆ ADMIT       ┆ of Service/ ┆             ┆ Room        │\n",
       "│              ┆             ┆             ┆             ┆ OMOP48220…  ┆             ┆             │\n",
       "│ gcpt_per_eth ┆ admissions  ┆ MIMIC_IV_Ra ┆ SURGICAL    ┆ CMS Place   ┆ 8883        ┆ Ambulatory  │\n",
       "│ nicity       ┆             ┆ ce/         ┆ SAME DAY    ┆ of          ┆             ┆ Surgical    │\n",
       "│              ┆             ┆             ┆ ADMISSION   ┆ Service/24  ┆             ┆ Center      │\n",
       "│ gcpt_per_eth ┆ admissions  ┆ MIMIC_IV_Ra ┆ URGENT      ┆ Visit/ERIP  ┆ 262         ┆ Emergency   │\n",
       "│ nicity       ┆             ┆ ce/         ┆             ┆             ┆             ┆ Room and    │\n",
       "│              ┆             ┆             ┆             ┆             ┆             ┆ Inpatient   │\n",
       "│              ┆             ┆             ┆             ┆             ┆             ┆ V…          │\n",
       "│ individual   ┆ patients    ┆ MIMIC_IV_Ge ┆ F           ┆ Gender/F    ┆ 8532        ┆ FEMALE      │\n",
       "│              ┆             ┆ nder/       ┆             ┆             ┆             ┆             │\n",
       "│ individual   ┆ patients    ┆ MIMIC_IV_Ge ┆ M           ┆ Gender/M    ┆ 8507        ┆ MALE        │\n",
       "│              ┆             ┆ nder/       ┆             ┆             ┆             ┆             │\n",
       "└──────────────┴─────────────┴─────────────┴─────────────┴─────────────┴─────────────┴─────────────┘"
      ]
     },
     "execution_count": 19,
     "metadata": {},
     "output_type": "execute_result"
    }
   ],
   "source": [
    "mapping_schema = {\n",
    "    \"vocabulary_id\": pl.Utf8,\n",
    "    \"target_concept_id\": pl.Int64,\n",
    "    \"source_code\": pl.Utf8\n",
    "}\n",
    "\n",
    "mapping_df = pl.read_csv(os.path.join(MAPPING_DIR, \"mapping_results\", \"final_mappings.csv\"), schema_overrides=mapping_schema)\n",
    "mapping_df"
   ]
  },
  {
   "cell_type": "code",
   "execution_count": 20,
   "metadata": {},
   "outputs": [],
   "source": [
    "metadata = load_metadata(MIMIC_MEDS_DIR)\n",
    "code_metadata = metadata[\"code_metadata\"]"
   ]
  },
  {
   "cell_type": "code",
   "execution_count": 21,
   "metadata": {},
   "outputs": [
    {
     "data": {
      "text/plain": [
       "2091"
      ]
     },
     "execution_count": 21,
     "metadata": {},
     "output_type": "execute_result"
    }
   ],
   "source": [
    "get_number_of_mappings(code_metadata)"
   ]
  },
  {
   "cell_type": "code",
   "execution_count": 22,
   "metadata": {},
   "outputs": [],
   "source": [
    "for row in mapping_df.iter_rows(named=True):\n",
    "    child_code = row[\"etl_prefix\"] + row[\"source_code\"]\n",
    "    parent_code = row[\"vocabulary_id\"]\n",
    "    description = row[\"ontology_concept_name\"]\n",
    "    if description is not None:\n",
    "        if not child_code in code_metadata:\n",
    "            code_metadata[child_code] = {\n",
    "                \"description\": description,\n",
    "                \"parent_codes\": [parent_code]\n",
    "            }\n",
    "        else:\n",
    "            if \"parent_codes\" in code_metadata[child_code]:\n",
    "                if not parent_code in code_metadata[child_code][\"parent_codes\"]:\n",
    "                    code_metadata[child_code][\"parent_codes\"].append(parent_code)\n",
    "            else:\n",
    "                code_metadata[child_code][\"parent_codes\"] = [parent_code]"
   ]
  },
  {
   "cell_type": "code",
   "execution_count": 23,
   "metadata": {},
   "outputs": [
    {
     "data": {
      "text/plain": [
       "3418"
      ]
     },
     "execution_count": 23,
     "metadata": {},
     "output_type": "execute_result"
    }
   ],
   "source": [
    "get_number_of_mappings(code_metadata)"
   ]
  },
  {
   "cell_type": "code",
   "execution_count": 24,
   "metadata": {},
   "outputs": [],
   "source": [
    "save_metadata(os.path.join(OUTPUT_DIR, \"mapping-metadata\"), metadata)"
   ]
  }
 ],
 "metadata": {
  "kernelspec": {
   "display_name": "thesis",
   "language": "python",
   "name": "python3"
  },
  "language_info": {
   "codemirror_mode": {
    "name": "ipython",
    "version": 3
   },
   "file_extension": ".py",
   "mimetype": "text/x-python",
   "name": "python",
   "nbconvert_exporter": "python",
   "pygments_lexer": "ipython3",
   "version": "3.10.14"
  }
 },
 "nbformat": 4,
 "nbformat_minor": 2
}
