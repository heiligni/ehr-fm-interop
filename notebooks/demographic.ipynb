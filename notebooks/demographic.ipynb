{
 "cells": [
  {
   "cell_type": "markdown",
   "metadata": {},
   "source": [
    "Notebook to create demograph statistics on the dataset"
   ]
  },
  {
   "cell_type": "code",
   "execution_count": null,
   "metadata": {},
   "outputs": [],
   "source": [
    "import polars as pl\n",
    "import os\n",
    "import sys\n",
    "import matplotlib.pyplot as plt\n",
    "import pandas as pd\n",
    "from file_paths import MIMIC_DIR, OUTPUT_DIR, MAPPING_DIR, ATHENA_PATH \n",
    "from femr.ontology import Ontology\n",
    "import pandas as pd\n",
    "\n",
    "current_dir = os.getcwd()\n",
    "parent_dir = os.path.abspath(os.path.join(current_dir, os.pardir))\n",
    "sys.path.append(os.path.join(parent_dir, \"src\"))\n",
    "\n",
    "from models.clmbr_t_base import get_tokenizer\n",
    "from utility.codes import ICD9_PREFIX, ICD10_PREFIX\n",
    "\n",
    "DATA_DIR = os.path.join(MIMIC_DIR, \"hosp\")\n",
    "PLOT_DIR = os.path.join(OUTPUT_DIR, \"plots\")\n",
    "\n",
    "os.makedirs(PLOT_DIR, exist_ok=True)"
   ]
  },
  {
   "cell_type": "code",
   "execution_count": null,
   "metadata": {},
   "outputs": [],
   "source": [
    "# Load the data\n",
    "patients_df = pl.read_csv(os.path.join(DATA_DIR, \"patients.csv\"))"
   ]
  },
  {
   "cell_type": "code",
   "execution_count": null,
   "metadata": {},
   "outputs": [],
   "source": [
    "# Calculate age statistics\n",
    "age_series = patients_df[\"anchor_age\"]\n",
    "median_age = age_series.median()\n",
    "mean_age = age_series.mean()\n",
    "std_dev_age = age_series.std()\n",
    "min_age = age_series.min()\n",
    "max_age = age_series.max()\n",
    "iqr_age = age_series.quantile(0.75) - age_series.quantile(0.25)\n",
    "q1 = age_series.quantile(0.25)\n",
    "q3 = age_series.quantile(0.75)\n",
    "\n",
    "# Print the results\n",
    "print(f\"Median Age: {median_age} years\")\n",
    "print(f\"Mean Age: {mean_age:.1f} years\")\n",
    "print(f\"Standard Deviation: {std_dev_age:.1f} years\")\n",
    "print(f\"Minimum Age: {min_age} years\")\n",
    "print(f\"Maximum Age: {max_age} years\")\n",
    "print(f\"Interquartile Range: {iqr_age:.1f} years ({q1:.1f} - {q3:.1f} years)\")\n",
    "\n",
    "# Calculate the sex distribution\n",
    "sex_distribution = patients_df.groupby(\"gender\").agg([\n",
    "    pl.count(\"subject_id\").alias(\"count\"),\n",
    "    (pl.count(\"subject_id\") / len(patients_df) * 100).alias(\"percentage\")\n",
    "])\n",
    "\n",
    "\n",
    "print(\"\\nSex distribution:\")\n",
    "print(sex_distribution)"
   ]
  },
  {
   "cell_type": "code",
   "execution_count": null,
   "metadata": {},
   "outputs": [],
   "source": [
    "# Extract anchor ages\n",
    "anchor_ages = patients_df[\"anchor_age\"]\n",
    "\n",
    "# Define bins for each year up to 100 years\n",
    "bins = range(18, 101)  # Assuming the minimum age is 18 and maximum age is 100\n",
    "\n",
    "# Plot the distribution\n",
    "plt.figure(figsize=(10, 6))\n",
    "plt.hist(anchor_ages, bins=bins, color='skyblue', edgecolor='black')\n",
    "plt.xlabel('Age at first data entry')\n",
    "plt.ylabel('Patients')\n",
    "plt.grid(axis='y', linestyle='--', alpha=0.7)\n",
    "\n",
    "# Save the plot\n",
    "plt.tight_layout()\n",
    "plt.savefig(os.path.join(PLOT_DIR, \"distribution_anchor_ages.png\"))\n",
    "\n",
    "# Display the plot\n",
    "plt.show()\n"
   ]
  },
  {
   "cell_type": "code",
   "execution_count": null,
   "metadata": {},
   "outputs": [],
   "source": [
    "\n",
    "# Load the data\n",
    "DATA_DIR = \"/home/niclas/Dokumente/thesis-daten/mimic-iv-2.2/2.2/hosp\"\n",
    "patients_df = pl.read_csv(os.path.join(DATA_DIR, \"patients.csv\"))\n",
    "\n",
    "# Calculate the distribution of anchor_year_group\n",
    "year_group_distribution = patients_df.group_by(\"anchor_year_group\").agg([\n",
    "    pl.count(\"subject_id\").alias(\"count\")\n",
    "])\n",
    "\n",
    "# Convert to Pandas for plotting\n",
    "year_group_distribution_pd = year_group_distribution.to_pandas()\n",
    "\n",
    "# Define the order of the year groups\n",
    "year_group_order = [\"2008 - 2010\", \"2011 - 2013\", \"2014 - 2016\", \"2017 - 2019\", \"2020 - 2022\"]\n",
    "year_group_distribution_pd[\"anchor_year_group\"] = pd.Categorical(year_group_distribution_pd[\"anchor_year_group\"], categories=year_group_order, ordered=True)\n",
    "\n",
    "# Sort the DataFrame by the specified order\n",
    "year_group_distribution_pd = year_group_distribution_pd.sort_values(\"anchor_year_group\")\n",
    "\n",
    "# Plot the distribution\n",
    "plt.figure(figsize=(10, 6))\n",
    "plt.bar(year_group_distribution_pd[\"anchor_year_group\"], year_group_distribution_pd[\"count\"], color='skyblue')\n",
    "plt.xlabel('Anchor Year Group')\n",
    "plt.ylabel('Count')\n",
    "plt.xticks(rotation=45)\n",
    "plt.show()\n"
   ]
  },
  {
   "cell_type": "code",
   "execution_count": null,
   "metadata": {},
   "outputs": [],
   "source": [
    "count_2020_2022 = patients_df.filter(pl.col(\"anchor_year_group\") == \"2020 - 2022\").shape[0]\n",
    "\n",
    "print(f\"Number of patients in the year group 2020 - 2022: {count_2020_2022}\")"
   ]
  },
  {
   "cell_type": "code",
   "execution_count": null,
   "metadata": {},
   "outputs": [],
   "source": [
    "# Load the data\n",
    "patients_df = pl.read_csv(os.path.join(DATA_DIR, \"patients.csv\"))\n",
    "\n",
    "# Calculate the distribution of anchor_year_group\n",
    "year_group_distribution = patients_df.groupby(\"anchor_year_group\").agg([\n",
    "    pl.count(\"subject_id\").alias(\"count\")\n",
    "])\n",
    "\n",
    "year_group_distribution = year_group_distribution.filter(pl.col(\"count\") > 2)\n",
    "\n",
    "\n",
    "# Convert to Pandas for plotting\n",
    "year_group_distribution_pd = year_group_distribution.to_pandas()\n",
    "\n",
    "# Define the order of the year groups\n",
    "year_group_order = [\"2008 - 2010\", \"2011 - 2013\", \"2014 - 2016\", \"2017 - 2019\", \"2020 - 2022\"]\n",
    "year_group_distribution_pd[\"anchor_year_group\"] = pd.Categorical(year_group_distribution_pd[\"anchor_year_group\"], categories=year_group_order, ordered=True)\n",
    "\n",
    "# Sort the DataFrame by the specified order\n",
    "year_group_distribution_pd = year_group_distribution_pd.sort_values(\"anchor_year_group\")\n",
    "\n",
    "# Calculate percentages\n",
    "total_count = year_group_distribution_pd[\"count\"].sum()\n",
    "year_group_distribution_pd[\"percentage\"] = (year_group_distribution_pd[\"count\"] / total_count) * 100\n",
    "\n",
    "# Function to format y-axis with commas\n",
    "def format_yaxis(value, _):\n",
    "    return f'{int(value):,}'\n",
    "\n",
    "# Plot the distribution\n",
    "plt.figure(figsize=(10, 6))\n",
    "bars = plt.bar(year_group_distribution_pd[\"anchor_year_group\"], year_group_distribution_pd[\"count\"], color='skyblue')\n",
    "\n",
    "# Add percentage labels on the bars\n",
    "for bar, percentage in zip(bars, year_group_distribution_pd[\"percentage\"]):\n",
    "    yval = bar.get_height()\n",
    "    plt.text(bar.get_x() + bar.get_width()/2, yval, f'{percentage:.2f}%', va='bottom')  # va: vertical alignment\n",
    "\n",
    "# Format y-axis\n",
    "plt.gca().yaxis.set_major_formatter(FuncFormatter(format_yaxis))\n",
    "\n",
    "plt.xlabel('Anchor Year Group')\n",
    "plt.ylabel('Patient Count')\n",
    "plt.grid(axis='y', linestyle='--', alpha=0.7)\n",
    "plt.xticks(rotation=45)\n",
    "plt.tight_layout()\n",
    "plt.savefig(os.path.join(PLOT_DIR, \"barplot_anchor_year_group.png\"))\n",
    "plt.show()\n"
   ]
  },
  {
   "cell_type": "markdown",
   "metadata": {},
   "source": [
    "Generate codes sets for the tasks based on the OMOP CDM"
   ]
  },
  {
   "cell_type": "code",
   "execution_count": null,
   "metadata": {},
   "outputs": [],
   "source": [
    "ontology = Ontology(ATHENA_PATH)"
   ]
  },
  {
   "cell_type": "markdown",
   "metadata": {},
   "source": [
    "Acute Kidney Failure"
   ]
  },
  {
   "cell_type": "code",
   "execution_count": null,
   "metadata": {},
   "outputs": [],
   "source": [
    "aki_codes = ontology.get_all_children(\"SNOMED/14669001\")\n",
    "aki_label_codes = [code for code in aki_codes if code.startswith(ICD9_PREFIX) or code.startswith(ICD10_PREFIX)]\n",
    "aki_label_codes.sort()\n",
    "aki_label_codes"
   ]
  },
  {
   "cell_type": "markdown",
   "metadata": {},
   "source": [
    "Hyperlipidaemia"
   ]
  },
  {
   "cell_type": "code",
   "execution_count": null,
   "metadata": {},
   "outputs": [],
   "source": [
    "hyperlipidaemia_codes = ontology.get_all_children(\"SNOMED/55822004\")\n",
    "hyperlipidaemia_label_codes = [code for code in hyperlipidaemia_codes if code.startswith(ICD9_PREFIX) or code.startswith(ICD10_PREFIX)]\n",
    "hyperlipidaemia_label_codes.sort()\n",
    "hyperlipidaemia_label_codes"
   ]
  },
  {
   "cell_type": "markdown",
   "metadata": {},
   "source": [
    "Chronic Kidney Disease (CKD)"
   ]
  },
  {
   "cell_type": "code",
   "execution_count": null,
   "metadata": {},
   "outputs": [],
   "source": [
    "ckd_codes = ontology.get_all_children(\"SNOMED/709044004\")\n",
    "ckd_label_codes = [code for code in ckd_codes if code.startswith(ICD9_PREFIX) or code.startswith(ICD10_PREFIX)]\n",
    "ckd_label_codes.sort()\n",
    "ckd_label_codes"
   ]
  }
 ],
 "metadata": {
  "kernelspec": {
   "display_name": "thesis",
   "language": "python",
   "name": "python3"
  },
  "language_info": {
   "codemirror_mode": {
    "name": "ipython",
    "version": 3
   },
   "file_extension": ".py",
   "mimetype": "text/x-python",
   "name": "python",
   "nbconvert_exporter": "python",
   "pygments_lexer": "ipython3",
   "version": "3.10.14"
  }
 },
 "nbformat": 4,
 "nbformat_minor": 2
}
